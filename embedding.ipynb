{
 "cells": [
  {
   "cell_type": "code",
   "execution_count": 1,
   "metadata": {},
   "outputs": [],
   "source": [
    "from tensorflow.keras.preprocessing.text import one_hot"
   ]
  },
  {
   "cell_type": "code",
   "execution_count": 2,
   "metadata": {},
   "outputs": [],
   "source": [
    "### sentences\n",
    "sent=[  'the glass of milk',\n",
    "     'the glass of juice',\n",
    "     'the cup of tea',\n",
    "    'I am a good boy',\n",
    "     'I am a good developer',\n",
    "     'understand the meaning of words',\n",
    "     'your videos are good',]"
   ]
  },
  {
   "cell_type": "code",
   "execution_count": 3,
   "metadata": {},
   "outputs": [
    {
     "data": {
      "text/plain": [
       "['the glass of milk',\n",
       " 'the glass of juice',\n",
       " 'the cup of tea',\n",
       " 'I am a good boy',\n",
       " 'I am a good developer',\n",
       " 'understand the meaning of words',\n",
       " 'your videos are good']"
      ]
     },
     "execution_count": 3,
     "metadata": {},
     "output_type": "execute_result"
    }
   ],
   "source": [
    "sent"
   ]
  },
  {
   "cell_type": "code",
   "execution_count": 4,
   "metadata": {},
   "outputs": [],
   "source": [
    "## Define the vocabulary size\n",
    "voc_size=10000"
   ]
  },
  {
   "cell_type": "code",
   "execution_count": 5,
   "metadata": {},
   "outputs": [
    {
     "data": {
      "text/plain": [
       "['the glass of milk',\n",
       " 'the glass of juice',\n",
       " 'the cup of tea',\n",
       " 'I am a good boy',\n",
       " 'I am a good developer',\n",
       " 'understand the meaning of words',\n",
       " 'your videos are good']"
      ]
     },
     "execution_count": 5,
     "metadata": {},
     "output_type": "execute_result"
    }
   ],
   "source": [
    "sent"
   ]
  },
  {
   "cell_type": "code",
   "execution_count": 6,
   "metadata": {},
   "outputs": [
    {
     "data": {
      "text/plain": [
       "[[4108, 9823, 6737, 4008],\n",
       " [4108, 9823, 6737, 2385],\n",
       " [4108, 5756, 6737, 7396],\n",
       " [7504, 1152, 8255, 1445, 7725],\n",
       " [7504, 1152, 8255, 1445, 6539],\n",
       " [9983, 4108, 8352, 6737, 8667],\n",
       " [4818, 5046, 5614, 1445]]"
      ]
     },
     "execution_count": 6,
     "metadata": {},
     "output_type": "execute_result"
    }
   ],
   "source": [
    "### One Hot Representation\n",
    "one_hot_repr=[one_hot(words,voc_size)for words in sent]\n",
    "one_hot_repr"
   ]
  },
  {
   "cell_type": "code",
   "execution_count": 7,
   "metadata": {},
   "outputs": [],
   "source": [
    "## word Embedding Representation\n",
    "\n",
    "from tensorflow.keras.layers import Embedding\n",
    "#from tensorflow.keras.processing.sequence import pad_sequences\n",
    "from tensorflow.keras.utils import pad_sequences\n",
    "from tensorflow.keras.models import Sequential"
   ]
  },
  {
   "cell_type": "code",
   "execution_count": 8,
   "metadata": {},
   "outputs": [],
   "source": [
    "import numpy as np"
   ]
  },
  {
   "cell_type": "code",
   "execution_count": 9,
   "metadata": {},
   "outputs": [
    {
     "name": "stdout",
     "output_type": "stream",
     "text": [
      "[[   0    0    0    0 4108 9823 6737 4008]\n",
      " [   0    0    0    0 4108 9823 6737 2385]\n",
      " [   0    0    0    0 4108 5756 6737 7396]\n",
      " [   0    0    0 7504 1152 8255 1445 7725]\n",
      " [   0    0    0 7504 1152 8255 1445 6539]\n",
      " [   0    0    0 9983 4108 8352 6737 8667]\n",
      " [   0    0    0    0 4818 5046 5614 1445]]\n"
     ]
    }
   ],
   "source": [
    "sent_length=8\n",
    "embedded_docs=pad_sequences(one_hot_repr,padding='pre',maxlen=sent_length)\n",
    "print(embedded_docs)"
   ]
  },
  {
   "cell_type": "code",
   "execution_count": 10,
   "metadata": {},
   "outputs": [],
   "source": [
    "## feature representation\n",
    "dim=10"
   ]
  },
  {
   "cell_type": "code",
   "execution_count": 11,
   "metadata": {},
   "outputs": [
    {
     "name": "stderr",
     "output_type": "stream",
     "text": [
      "/Users/tanvipatel/Documents/deep_learning_project/venv-ann/lib/python3.10/site-packages/keras/src/layers/core/embedding.py:90: UserWarning: Argument `input_length` is deprecated. Just remove it.\n",
      "  warnings.warn(\n"
     ]
    }
   ],
   "source": [
    "model=Sequential()\n",
    "model.add(Embedding(voc_size,dim,input_length=sent_length))\n",
    "model.compile('adam','mse')"
   ]
  },
  {
   "cell_type": "code",
   "execution_count": 12,
   "metadata": {},
   "outputs": [
    {
     "data": {
      "text/html": [
       "<pre style=\"white-space:pre;overflow-x:auto;line-height:normal;font-family:Menlo,'DejaVu Sans Mono',consolas,'Courier New',monospace\"><span style=\"font-weight: bold\">Model: \"sequential\"</span>\n",
       "</pre>\n"
      ],
      "text/plain": [
       "\u001b[1mModel: \"sequential\"\u001b[0m\n"
      ]
     },
     "metadata": {},
     "output_type": "display_data"
    },
    {
     "data": {
      "text/html": [
       "<pre style=\"white-space:pre;overflow-x:auto;line-height:normal;font-family:Menlo,'DejaVu Sans Mono',consolas,'Courier New',monospace\">┏━━━━━━━━━━━━━━━━━━━━━━━━━━━━━━━━━┳━━━━━━━━━━━━━━━━━━━━━━━━┳━━━━━━━━━━━━━━━┓\n",
       "┃<span style=\"font-weight: bold\"> Layer (type)                    </span>┃<span style=\"font-weight: bold\"> Output Shape           </span>┃<span style=\"font-weight: bold\">       Param # </span>┃\n",
       "┡━━━━━━━━━━━━━━━━━━━━━━━━━━━━━━━━━╇━━━━━━━━━━━━━━━━━━━━━━━━╇━━━━━━━━━━━━━━━┩\n",
       "│ embedding (<span style=\"color: #0087ff; text-decoration-color: #0087ff\">Embedding</span>)           │ ?                      │   <span style=\"color: #00af00; text-decoration-color: #00af00\">0</span> (unbuilt) │\n",
       "└─────────────────────────────────┴────────────────────────┴───────────────┘\n",
       "</pre>\n"
      ],
      "text/plain": [
       "┏━━━━━━━━━━━━━━━━━━━━━━━━━━━━━━━━━┳━━━━━━━━━━━━━━━━━━━━━━━━┳━━━━━━━━━━━━━━━┓\n",
       "┃\u001b[1m \u001b[0m\u001b[1mLayer (type)                   \u001b[0m\u001b[1m \u001b[0m┃\u001b[1m \u001b[0m\u001b[1mOutput Shape          \u001b[0m\u001b[1m \u001b[0m┃\u001b[1m \u001b[0m\u001b[1m      Param #\u001b[0m\u001b[1m \u001b[0m┃\n",
       "┡━━━━━━━━━━━━━━━━━━━━━━━━━━━━━━━━━╇━━━━━━━━━━━━━━━━━━━━━━━━╇━━━━━━━━━━━━━━━┩\n",
       "│ embedding (\u001b[38;5;33mEmbedding\u001b[0m)           │ ?                      │   \u001b[38;5;34m0\u001b[0m (unbuilt) │\n",
       "└─────────────────────────────────┴────────────────────────┴───────────────┘\n"
      ]
     },
     "metadata": {},
     "output_type": "display_data"
    },
    {
     "data": {
      "text/html": [
       "<pre style=\"white-space:pre;overflow-x:auto;line-height:normal;font-family:Menlo,'DejaVu Sans Mono',consolas,'Courier New',monospace\"><span style=\"font-weight: bold\"> Total params: </span><span style=\"color: #00af00; text-decoration-color: #00af00\">0</span> (0.00 B)\n",
       "</pre>\n"
      ],
      "text/plain": [
       "\u001b[1m Total params: \u001b[0m\u001b[38;5;34m0\u001b[0m (0.00 B)\n"
      ]
     },
     "metadata": {},
     "output_type": "display_data"
    },
    {
     "data": {
      "text/html": [
       "<pre style=\"white-space:pre;overflow-x:auto;line-height:normal;font-family:Menlo,'DejaVu Sans Mono',consolas,'Courier New',monospace\"><span style=\"font-weight: bold\"> Trainable params: </span><span style=\"color: #00af00; text-decoration-color: #00af00\">0</span> (0.00 B)\n",
       "</pre>\n"
      ],
      "text/plain": [
       "\u001b[1m Trainable params: \u001b[0m\u001b[38;5;34m0\u001b[0m (0.00 B)\n"
      ]
     },
     "metadata": {},
     "output_type": "display_data"
    },
    {
     "data": {
      "text/html": [
       "<pre style=\"white-space:pre;overflow-x:auto;line-height:normal;font-family:Menlo,'DejaVu Sans Mono',consolas,'Courier New',monospace\"><span style=\"font-weight: bold\"> Non-trainable params: </span><span style=\"color: #00af00; text-decoration-color: #00af00\">0</span> (0.00 B)\n",
       "</pre>\n"
      ],
      "text/plain": [
       "\u001b[1m Non-trainable params: \u001b[0m\u001b[38;5;34m0\u001b[0m (0.00 B)\n"
      ]
     },
     "metadata": {},
     "output_type": "display_data"
    }
   ],
   "source": [
    "model.summary()"
   ]
  },
  {
   "cell_type": "code",
   "execution_count": 13,
   "metadata": {},
   "outputs": [
    {
     "name": "stdout",
     "output_type": "stream",
     "text": [
      "\u001b[1m1/1\u001b[0m \u001b[32m━━━━━━━━━━━━━━━━━━━━\u001b[0m\u001b[37m\u001b[0m \u001b[1m0s\u001b[0m 42ms/step\n"
     ]
    },
    {
     "data": {
      "text/plain": [
       "array([[[ 7.51476362e-03,  4.11792062e-02, -3.65641713e-02,\n",
       "         -4.43692803e-02, -8.71579722e-03, -4.41621542e-02,\n",
       "         -7.87776709e-03, -7.26815313e-03,  3.87090780e-02,\n",
       "          2.47924812e-02],\n",
       "        [ 7.51476362e-03,  4.11792062e-02, -3.65641713e-02,\n",
       "         -4.43692803e-02, -8.71579722e-03, -4.41621542e-02,\n",
       "         -7.87776709e-03, -7.26815313e-03,  3.87090780e-02,\n",
       "          2.47924812e-02],\n",
       "        [ 7.51476362e-03,  4.11792062e-02, -3.65641713e-02,\n",
       "         -4.43692803e-02, -8.71579722e-03, -4.41621542e-02,\n",
       "         -7.87776709e-03, -7.26815313e-03,  3.87090780e-02,\n",
       "          2.47924812e-02],\n",
       "        [ 7.51476362e-03,  4.11792062e-02, -3.65641713e-02,\n",
       "         -4.43692803e-02, -8.71579722e-03, -4.41621542e-02,\n",
       "         -7.87776709e-03, -7.26815313e-03,  3.87090780e-02,\n",
       "          2.47924812e-02],\n",
       "        [-3.86560671e-02,  3.60332020e-02,  3.62086929e-02,\n",
       "          1.14559010e-03, -2.68219467e-02, -1.96139105e-02,\n",
       "          2.12665647e-03, -3.64271998e-02,  4.47883867e-02,\n",
       "         -8.89218971e-03],\n",
       "        [ 2.49384306e-02, -4.05061729e-02, -1.28293149e-02,\n",
       "          3.83943953e-02,  4.84068431e-02,  4.48352955e-02,\n",
       "          4.61759828e-02,  1.47370733e-02, -7.28105381e-03,\n",
       "         -4.71288338e-02],\n",
       "        [ 2.65721232e-03,  5.77941537e-05,  1.29682757e-02,\n",
       "         -3.72300632e-02, -2.83060223e-03,  3.76826525e-03,\n",
       "          1.50455944e-02,  3.47662456e-02, -1.99236758e-02,\n",
       "          7.78334215e-03],\n",
       "        [-3.03175300e-03,  2.24917866e-02, -2.41443999e-02,\n",
       "          8.47532600e-03, -3.80764157e-03, -2.47009993e-02,\n",
       "          7.17582554e-03,  5.77511638e-03, -9.63101536e-03,\n",
       "         -9.28642601e-03]],\n",
       "\n",
       "       [[ 7.51476362e-03,  4.11792062e-02, -3.65641713e-02,\n",
       "         -4.43692803e-02, -8.71579722e-03, -4.41621542e-02,\n",
       "         -7.87776709e-03, -7.26815313e-03,  3.87090780e-02,\n",
       "          2.47924812e-02],\n",
       "        [ 7.51476362e-03,  4.11792062e-02, -3.65641713e-02,\n",
       "         -4.43692803e-02, -8.71579722e-03, -4.41621542e-02,\n",
       "         -7.87776709e-03, -7.26815313e-03,  3.87090780e-02,\n",
       "          2.47924812e-02],\n",
       "        [ 7.51476362e-03,  4.11792062e-02, -3.65641713e-02,\n",
       "         -4.43692803e-02, -8.71579722e-03, -4.41621542e-02,\n",
       "         -7.87776709e-03, -7.26815313e-03,  3.87090780e-02,\n",
       "          2.47924812e-02],\n",
       "        [ 7.51476362e-03,  4.11792062e-02, -3.65641713e-02,\n",
       "         -4.43692803e-02, -8.71579722e-03, -4.41621542e-02,\n",
       "         -7.87776709e-03, -7.26815313e-03,  3.87090780e-02,\n",
       "          2.47924812e-02],\n",
       "        [-3.86560671e-02,  3.60332020e-02,  3.62086929e-02,\n",
       "          1.14559010e-03, -2.68219467e-02, -1.96139105e-02,\n",
       "          2.12665647e-03, -3.64271998e-02,  4.47883867e-02,\n",
       "         -8.89218971e-03],\n",
       "        [ 2.49384306e-02, -4.05061729e-02, -1.28293149e-02,\n",
       "          3.83943953e-02,  4.84068431e-02,  4.48352955e-02,\n",
       "          4.61759828e-02,  1.47370733e-02, -7.28105381e-03,\n",
       "         -4.71288338e-02],\n",
       "        [ 2.65721232e-03,  5.77941537e-05,  1.29682757e-02,\n",
       "         -3.72300632e-02, -2.83060223e-03,  3.76826525e-03,\n",
       "          1.50455944e-02,  3.47662456e-02, -1.99236758e-02,\n",
       "          7.78334215e-03],\n",
       "        [-1.71445012e-02,  4.52615060e-02,  1.38253011e-02,\n",
       "         -4.14481014e-03,  4.62912358e-02, -4.84694839e-02,\n",
       "         -4.59995754e-02, -6.56449795e-03, -8.14590603e-03,\n",
       "         -1.75980814e-02]],\n",
       "\n",
       "       [[ 7.51476362e-03,  4.11792062e-02, -3.65641713e-02,\n",
       "         -4.43692803e-02, -8.71579722e-03, -4.41621542e-02,\n",
       "         -7.87776709e-03, -7.26815313e-03,  3.87090780e-02,\n",
       "          2.47924812e-02],\n",
       "        [ 7.51476362e-03,  4.11792062e-02, -3.65641713e-02,\n",
       "         -4.43692803e-02, -8.71579722e-03, -4.41621542e-02,\n",
       "         -7.87776709e-03, -7.26815313e-03,  3.87090780e-02,\n",
       "          2.47924812e-02],\n",
       "        [ 7.51476362e-03,  4.11792062e-02, -3.65641713e-02,\n",
       "         -4.43692803e-02, -8.71579722e-03, -4.41621542e-02,\n",
       "         -7.87776709e-03, -7.26815313e-03,  3.87090780e-02,\n",
       "          2.47924812e-02],\n",
       "        [ 7.51476362e-03,  4.11792062e-02, -3.65641713e-02,\n",
       "         -4.43692803e-02, -8.71579722e-03, -4.41621542e-02,\n",
       "         -7.87776709e-03, -7.26815313e-03,  3.87090780e-02,\n",
       "          2.47924812e-02],\n",
       "        [-3.86560671e-02,  3.60332020e-02,  3.62086929e-02,\n",
       "          1.14559010e-03, -2.68219467e-02, -1.96139105e-02,\n",
       "          2.12665647e-03, -3.64271998e-02,  4.47883867e-02,\n",
       "         -8.89218971e-03],\n",
       "        [ 3.95390503e-02,  1.06948726e-02,  4.61162254e-03,\n",
       "          8.97808000e-03,  4.94576991e-04, -4.37879935e-02,\n",
       "          3.61381508e-02, -3.27551365e-02, -8.19217041e-03,\n",
       "          2.65616290e-02],\n",
       "        [ 2.65721232e-03,  5.77941537e-05,  1.29682757e-02,\n",
       "         -3.72300632e-02, -2.83060223e-03,  3.76826525e-03,\n",
       "          1.50455944e-02,  3.47662456e-02, -1.99236758e-02,\n",
       "          7.78334215e-03],\n",
       "        [ 3.14120986e-02,  4.84573133e-02, -1.31574869e-02,\n",
       "          1.00346915e-02, -1.01061910e-03, -9.92161036e-03,\n",
       "         -2.23916415e-02, -6.04618713e-03, -2.62316000e-02,\n",
       "          1.23562813e-02]],\n",
       "\n",
       "       [[ 7.51476362e-03,  4.11792062e-02, -3.65641713e-02,\n",
       "         -4.43692803e-02, -8.71579722e-03, -4.41621542e-02,\n",
       "         -7.87776709e-03, -7.26815313e-03,  3.87090780e-02,\n",
       "          2.47924812e-02],\n",
       "        [ 7.51476362e-03,  4.11792062e-02, -3.65641713e-02,\n",
       "         -4.43692803e-02, -8.71579722e-03, -4.41621542e-02,\n",
       "         -7.87776709e-03, -7.26815313e-03,  3.87090780e-02,\n",
       "          2.47924812e-02],\n",
       "        [ 7.51476362e-03,  4.11792062e-02, -3.65641713e-02,\n",
       "         -4.43692803e-02, -8.71579722e-03, -4.41621542e-02,\n",
       "         -7.87776709e-03, -7.26815313e-03,  3.87090780e-02,\n",
       "          2.47924812e-02],\n",
       "        [-4.20962945e-02,  2.61363648e-02, -3.28882821e-02,\n",
       "          2.68471576e-02,  2.47906707e-02, -2.96072252e-02,\n",
       "         -3.15813310e-02,  1.76980235e-02, -4.94642258e-02,\n",
       "          2.91402265e-03],\n",
       "        [ 1.36962645e-02, -1.88717134e-02,  3.29364091e-04,\n",
       "         -4.87612560e-03,  2.71005370e-02, -4.46588062e-02,\n",
       "          2.61409618e-02,  3.18085290e-02,  6.02986664e-03,\n",
       "          2.26355828e-02],\n",
       "        [ 3.14815976e-02, -3.69778499e-02,  2.98095234e-02,\n",
       "         -4.93260734e-02, -3.88078913e-02, -4.02733795e-02,\n",
       "         -3.39520797e-02,  2.66875066e-02, -4.33771983e-02,\n",
       "         -4.73940857e-02],\n",
       "        [ 4.04865183e-02,  1.87251456e-02,  4.19903919e-03,\n",
       "          3.57763283e-02, -1.02794170e-02,  1.49524920e-02,\n",
       "          3.83532085e-02,  4.57326882e-02,  2.18851678e-02,\n",
       "          2.78553851e-02],\n",
       "        [-1.58291347e-02, -3.44277024e-02,  1.46705844e-02,\n",
       "         -3.53985205e-02, -2.18529589e-02,  3.03764008e-02,\n",
       "         -5.29728830e-04,  3.50047089e-02,  3.78841795e-02,\n",
       "          1.14936940e-02]],\n",
       "\n",
       "       [[ 7.51476362e-03,  4.11792062e-02, -3.65641713e-02,\n",
       "         -4.43692803e-02, -8.71579722e-03, -4.41621542e-02,\n",
       "         -7.87776709e-03, -7.26815313e-03,  3.87090780e-02,\n",
       "          2.47924812e-02],\n",
       "        [ 7.51476362e-03,  4.11792062e-02, -3.65641713e-02,\n",
       "         -4.43692803e-02, -8.71579722e-03, -4.41621542e-02,\n",
       "         -7.87776709e-03, -7.26815313e-03,  3.87090780e-02,\n",
       "          2.47924812e-02],\n",
       "        [ 7.51476362e-03,  4.11792062e-02, -3.65641713e-02,\n",
       "         -4.43692803e-02, -8.71579722e-03, -4.41621542e-02,\n",
       "         -7.87776709e-03, -7.26815313e-03,  3.87090780e-02,\n",
       "          2.47924812e-02],\n",
       "        [-4.20962945e-02,  2.61363648e-02, -3.28882821e-02,\n",
       "          2.68471576e-02,  2.47906707e-02, -2.96072252e-02,\n",
       "         -3.15813310e-02,  1.76980235e-02, -4.94642258e-02,\n",
       "          2.91402265e-03],\n",
       "        [ 1.36962645e-02, -1.88717134e-02,  3.29364091e-04,\n",
       "         -4.87612560e-03,  2.71005370e-02, -4.46588062e-02,\n",
       "          2.61409618e-02,  3.18085290e-02,  6.02986664e-03,\n",
       "          2.26355828e-02],\n",
       "        [ 3.14815976e-02, -3.69778499e-02,  2.98095234e-02,\n",
       "         -4.93260734e-02, -3.88078913e-02, -4.02733795e-02,\n",
       "         -3.39520797e-02,  2.66875066e-02, -4.33771983e-02,\n",
       "         -4.73940857e-02],\n",
       "        [ 4.04865183e-02,  1.87251456e-02,  4.19903919e-03,\n",
       "          3.57763283e-02, -1.02794170e-02,  1.49524920e-02,\n",
       "          3.83532085e-02,  4.57326882e-02,  2.18851678e-02,\n",
       "          2.78553851e-02],\n",
       "        [ 7.77608156e-03,  1.19684823e-02, -1.27486587e-02,\n",
       "         -1.64989121e-02, -1.00229383e-02, -3.30791473e-02,\n",
       "          2.31755488e-02,  4.11029793e-02,  4.43122052e-02,\n",
       "         -4.00554165e-02]],\n",
       "\n",
       "       [[ 7.51476362e-03,  4.11792062e-02, -3.65641713e-02,\n",
       "         -4.43692803e-02, -8.71579722e-03, -4.41621542e-02,\n",
       "         -7.87776709e-03, -7.26815313e-03,  3.87090780e-02,\n",
       "          2.47924812e-02],\n",
       "        [ 7.51476362e-03,  4.11792062e-02, -3.65641713e-02,\n",
       "         -4.43692803e-02, -8.71579722e-03, -4.41621542e-02,\n",
       "         -7.87776709e-03, -7.26815313e-03,  3.87090780e-02,\n",
       "          2.47924812e-02],\n",
       "        [ 7.51476362e-03,  4.11792062e-02, -3.65641713e-02,\n",
       "         -4.43692803e-02, -8.71579722e-03, -4.41621542e-02,\n",
       "         -7.87776709e-03, -7.26815313e-03,  3.87090780e-02,\n",
       "          2.47924812e-02],\n",
       "        [ 2.83637755e-02, -1.51187666e-02,  4.14206274e-02,\n",
       "         -5.03040850e-04, -4.34326306e-02, -3.22872028e-02,\n",
       "          2.48419307e-02, -2.96666026e-02, -2.83848643e-02,\n",
       "         -4.81820218e-02],\n",
       "        [-3.86560671e-02,  3.60332020e-02,  3.62086929e-02,\n",
       "          1.14559010e-03, -2.68219467e-02, -1.96139105e-02,\n",
       "          2.12665647e-03, -3.64271998e-02,  4.47883867e-02,\n",
       "         -8.89218971e-03],\n",
       "        [-6.89449161e-03, -1.52061097e-02, -2.94363741e-02,\n",
       "         -3.68754379e-02,  1.09185204e-02,  4.22721170e-02,\n",
       "          4.50906791e-02, -4.42589410e-02, -4.39697504e-03,\n",
       "          1.19660385e-02],\n",
       "        [ 2.65721232e-03,  5.77941537e-05,  1.29682757e-02,\n",
       "         -3.72300632e-02, -2.83060223e-03,  3.76826525e-03,\n",
       "          1.50455944e-02,  3.47662456e-02, -1.99236758e-02,\n",
       "          7.78334215e-03],\n",
       "        [-5.35885245e-03, -4.50482741e-02,  2.00931318e-02,\n",
       "          1.15827322e-02,  2.76062004e-02, -4.15481813e-02,\n",
       "          1.05072744e-02,  3.10504921e-02, -1.06561072e-02,\n",
       "         -2.30411291e-02]],\n",
       "\n",
       "       [[ 7.51476362e-03,  4.11792062e-02, -3.65641713e-02,\n",
       "         -4.43692803e-02, -8.71579722e-03, -4.41621542e-02,\n",
       "         -7.87776709e-03, -7.26815313e-03,  3.87090780e-02,\n",
       "          2.47924812e-02],\n",
       "        [ 7.51476362e-03,  4.11792062e-02, -3.65641713e-02,\n",
       "         -4.43692803e-02, -8.71579722e-03, -4.41621542e-02,\n",
       "         -7.87776709e-03, -7.26815313e-03,  3.87090780e-02,\n",
       "          2.47924812e-02],\n",
       "        [ 7.51476362e-03,  4.11792062e-02, -3.65641713e-02,\n",
       "         -4.43692803e-02, -8.71579722e-03, -4.41621542e-02,\n",
       "         -7.87776709e-03, -7.26815313e-03,  3.87090780e-02,\n",
       "          2.47924812e-02],\n",
       "        [ 7.51476362e-03,  4.11792062e-02, -3.65641713e-02,\n",
       "         -4.43692803e-02, -8.71579722e-03, -4.41621542e-02,\n",
       "         -7.87776709e-03, -7.26815313e-03,  3.87090780e-02,\n",
       "          2.47924812e-02],\n",
       "        [-3.20048928e-02, -3.29941660e-02, -1.14687905e-02,\n",
       "          3.09962071e-02, -4.22127843e-02, -3.63425501e-02,\n",
       "         -7.48057291e-03,  1.11272223e-02, -1.33564249e-02,\n",
       "         -1.12861395e-02],\n",
       "        [-4.22840193e-03, -1.52008533e-02, -4.11541350e-02,\n",
       "          3.57197635e-02, -3.17493454e-02,  3.78657840e-02,\n",
       "          1.75032057e-02, -4.73827720e-02, -5.40478155e-03,\n",
       "          2.33401395e-02],\n",
       "        [-4.96760271e-02,  1.40374564e-02, -2.30582114e-02,\n",
       "         -4.57986966e-02,  7.75326043e-04,  1.29884221e-02,\n",
       "          4.31264378e-02,  3.28080691e-02, -1.27735734e-02,\n",
       "         -1.25907175e-02],\n",
       "        [ 4.04865183e-02,  1.87251456e-02,  4.19903919e-03,\n",
       "          3.57763283e-02, -1.02794170e-02,  1.49524920e-02,\n",
       "          3.83532085e-02,  4.57326882e-02,  2.18851678e-02,\n",
       "          2.78553851e-02]]], dtype=float32)"
      ]
     },
     "execution_count": 13,
     "metadata": {},
     "output_type": "execute_result"
    }
   ],
   "source": [
    "model.predict(embedded_docs)"
   ]
  },
  {
   "cell_type": "code",
   "execution_count": 14,
   "metadata": {},
   "outputs": [
    {
     "data": {
      "text/plain": [
       "array([   0,    0,    0,    0, 4108, 9823, 6737, 4008], dtype=int32)"
      ]
     },
     "execution_count": 14,
     "metadata": {},
     "output_type": "execute_result"
    }
   ],
   "source": [
    "embedded_docs[0]"
   ]
  },
  {
   "cell_type": "code",
   "execution_count": 15,
   "metadata": {},
   "outputs": [
    {
     "ename": "ValueError",
     "evalue": "Exception encountered when calling Sequential.call().\n\n\u001b[1mCannot take the length of shape with unknown rank.\u001b[0m\n\nArguments received by Sequential.call():\n  • inputs=tf.Tensor(shape=<unknown>, dtype=int32)\n  • training=False\n  • mask=None",
     "output_type": "error",
     "traceback": [
      "\u001b[0;31m---------------------------------------------------------------------------\u001b[0m",
      "\u001b[0;31mValueError\u001b[0m                                Traceback (most recent call last)",
      "Cell \u001b[0;32mIn[15], line 1\u001b[0m\n\u001b[0;32m----> 1\u001b[0m \u001b[43mmodel\u001b[49m\u001b[38;5;241;43m.\u001b[39;49m\u001b[43mpredict\u001b[49m\u001b[43m(\u001b[49m\u001b[43membedded_docs\u001b[49m\u001b[43m[\u001b[49m\u001b[38;5;241;43m0\u001b[39;49m\u001b[43m]\u001b[49m\u001b[43m)\u001b[49m\n",
      "File \u001b[0;32m~/Documents/deep_learning_project/venv-ann/lib/python3.10/site-packages/keras/src/utils/traceback_utils.py:122\u001b[0m, in \u001b[0;36mfilter_traceback.<locals>.error_handler\u001b[0;34m(*args, **kwargs)\u001b[0m\n\u001b[1;32m    119\u001b[0m     filtered_tb \u001b[38;5;241m=\u001b[39m _process_traceback_frames(e\u001b[38;5;241m.\u001b[39m__traceback__)\n\u001b[1;32m    120\u001b[0m     \u001b[38;5;66;03m# To get the full stack trace, call:\u001b[39;00m\n\u001b[1;32m    121\u001b[0m     \u001b[38;5;66;03m# `keras.config.disable_traceback_filtering()`\u001b[39;00m\n\u001b[0;32m--> 122\u001b[0m     \u001b[38;5;28;01mraise\u001b[39;00m e\u001b[38;5;241m.\u001b[39mwith_traceback(filtered_tb) \u001b[38;5;28;01mfrom\u001b[39;00m\u001b[38;5;250m \u001b[39m\u001b[38;5;28;01mNone\u001b[39;00m\n\u001b[1;32m    123\u001b[0m \u001b[38;5;28;01mfinally\u001b[39;00m:\n\u001b[1;32m    124\u001b[0m     \u001b[38;5;28;01mdel\u001b[39;00m filtered_tb\n",
      "File \u001b[0;32m~/Documents/deep_learning_project/venv-ann/lib/python3.10/site-packages/keras/src/utils/traceback_utils.py:122\u001b[0m, in \u001b[0;36mfilter_traceback.<locals>.error_handler\u001b[0;34m(*args, **kwargs)\u001b[0m\n\u001b[1;32m    119\u001b[0m     filtered_tb \u001b[38;5;241m=\u001b[39m _process_traceback_frames(e\u001b[38;5;241m.\u001b[39m__traceback__)\n\u001b[1;32m    120\u001b[0m     \u001b[38;5;66;03m# To get the full stack trace, call:\u001b[39;00m\n\u001b[1;32m    121\u001b[0m     \u001b[38;5;66;03m# `keras.config.disable_traceback_filtering()`\u001b[39;00m\n\u001b[0;32m--> 122\u001b[0m     \u001b[38;5;28;01mraise\u001b[39;00m e\u001b[38;5;241m.\u001b[39mwith_traceback(filtered_tb) \u001b[38;5;28;01mfrom\u001b[39;00m\u001b[38;5;250m \u001b[39m\u001b[38;5;28;01mNone\u001b[39;00m\n\u001b[1;32m    123\u001b[0m \u001b[38;5;28;01mfinally\u001b[39;00m:\n\u001b[1;32m    124\u001b[0m     \u001b[38;5;28;01mdel\u001b[39;00m filtered_tb\n",
      "\u001b[0;31mValueError\u001b[0m: Exception encountered when calling Sequential.call().\n\n\u001b[1mCannot take the length of shape with unknown rank.\u001b[0m\n\nArguments received by Sequential.call():\n  • inputs=tf.Tensor(shape=<unknown>, dtype=int32)\n  • training=False\n  • mask=None"
     ]
    }
   ],
   "source": [
    "model.predict(embedded_docs[0])"
   ]
  },
  {
   "cell_type": "code",
   "execution_count": null,
   "metadata": {},
   "outputs": [],
   "source": []
  }
 ],
 "metadata": {
  "kernelspec": {
   "display_name": "Python 3",
   "language": "python",
   "name": "python3"
  },
  "language_info": {
   "codemirror_mode": {
    "name": "ipython",
    "version": 3
   },
   "file_extension": ".py",
   "mimetype": "text/x-python",
   "name": "python",
   "nbconvert_exporter": "python",
   "pygments_lexer": "ipython3",
   "version": "3.10.16"
  }
 },
 "nbformat": 4,
 "nbformat_minor": 2
}
