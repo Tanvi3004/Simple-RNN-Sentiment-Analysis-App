{
 "cells": [
  {
   "cell_type": "code",
   "execution_count": 1,
   "metadata": {},
   "outputs": [],
   "source": [
    "# Step 1: Import Libraries and Load the Model\n",
    "import numpy as np\n",
    "import tensorflow as tf\n",
    "from tensorflow.keras.datasets import imdb\n",
    "from tensorflow.keras.preprocessing import sequence\n",
    "from tensorflow.keras.models import load_model"
   ]
  },
  {
   "cell_type": "code",
   "execution_count": 2,
   "metadata": {},
   "outputs": [],
   "source": [
    "\n",
    "# Load the IMDB dataset word index\n",
    "word_index = imdb.get_word_index()\n",
    "reverse_word_index = {value: key for key, value in word_index.items()}"
   ]
  },
  {
   "cell_type": "code",
   "execution_count": 3,
   "metadata": {},
   "outputs": [
    {
     "name": "stderr",
     "output_type": "stream",
     "text": [
      "WARNING:absl:Compiled the loaded model, but the compiled metrics have yet to be built. `model.compile_metrics` will be empty until you train or evaluate the model.\n"
     ]
    },
    {
     "data": {
      "text/html": [
       "<pre style=\"white-space:pre;overflow-x:auto;line-height:normal;font-family:Menlo,'DejaVu Sans Mono',consolas,'Courier New',monospace\"><span style=\"font-weight: bold\">Model: \"sequential\"</span>\n",
       "</pre>\n"
      ],
      "text/plain": [
       "\u001b[1mModel: \"sequential\"\u001b[0m\n"
      ]
     },
     "metadata": {},
     "output_type": "display_data"
    },
    {
     "data": {
      "text/html": [
       "<pre style=\"white-space:pre;overflow-x:auto;line-height:normal;font-family:Menlo,'DejaVu Sans Mono',consolas,'Courier New',monospace\">┏━━━━━━━━━━━━━━━━━━━━━━━━━━━━━━━━━┳━━━━━━━━━━━━━━━━━━━━━━━━┳━━━━━━━━━━━━━━━┓\n",
       "┃<span style=\"font-weight: bold\"> Layer (type)                    </span>┃<span style=\"font-weight: bold\"> Output Shape           </span>┃<span style=\"font-weight: bold\">       Param # </span>┃\n",
       "┡━━━━━━━━━━━━━━━━━━━━━━━━━━━━━━━━━╇━━━━━━━━━━━━━━━━━━━━━━━━╇━━━━━━━━━━━━━━━┩\n",
       "│ embedding (<span style=\"color: #0087ff; text-decoration-color: #0087ff\">Embedding</span>)           │ (<span style=\"color: #00d7ff; text-decoration-color: #00d7ff\">None</span>, <span style=\"color: #00af00; text-decoration-color: #00af00\">500</span>, <span style=\"color: #00af00; text-decoration-color: #00af00\">128</span>)       │     <span style=\"color: #00af00; text-decoration-color: #00af00\">1,280,000</span> │\n",
       "├─────────────────────────────────┼────────────────────────┼───────────────┤\n",
       "│ simple_rnn (<span style=\"color: #0087ff; text-decoration-color: #0087ff\">SimpleRNN</span>)          │ (<span style=\"color: #00d7ff; text-decoration-color: #00d7ff\">None</span>, <span style=\"color: #00af00; text-decoration-color: #00af00\">128</span>)            │        <span style=\"color: #00af00; text-decoration-color: #00af00\">32,896</span> │\n",
       "├─────────────────────────────────┼────────────────────────┼───────────────┤\n",
       "│ dense (<span style=\"color: #0087ff; text-decoration-color: #0087ff\">Dense</span>)                   │ (<span style=\"color: #00d7ff; text-decoration-color: #00d7ff\">None</span>, <span style=\"color: #00af00; text-decoration-color: #00af00\">1</span>)              │           <span style=\"color: #00af00; text-decoration-color: #00af00\">129</span> │\n",
       "└─────────────────────────────────┴────────────────────────┴───────────────┘\n",
       "</pre>\n"
      ],
      "text/plain": [
       "┏━━━━━━━━━━━━━━━━━━━━━━━━━━━━━━━━━┳━━━━━━━━━━━━━━━━━━━━━━━━┳━━━━━━━━━━━━━━━┓\n",
       "┃\u001b[1m \u001b[0m\u001b[1mLayer (type)                   \u001b[0m\u001b[1m \u001b[0m┃\u001b[1m \u001b[0m\u001b[1mOutput Shape          \u001b[0m\u001b[1m \u001b[0m┃\u001b[1m \u001b[0m\u001b[1m      Param #\u001b[0m\u001b[1m \u001b[0m┃\n",
       "┡━━━━━━━━━━━━━━━━━━━━━━━━━━━━━━━━━╇━━━━━━━━━━━━━━━━━━━━━━━━╇━━━━━━━━━━━━━━━┩\n",
       "│ embedding (\u001b[38;5;33mEmbedding\u001b[0m)           │ (\u001b[38;5;45mNone\u001b[0m, \u001b[38;5;34m500\u001b[0m, \u001b[38;5;34m128\u001b[0m)       │     \u001b[38;5;34m1,280,000\u001b[0m │\n",
       "├─────────────────────────────────┼────────────────────────┼───────────────┤\n",
       "│ simple_rnn (\u001b[38;5;33mSimpleRNN\u001b[0m)          │ (\u001b[38;5;45mNone\u001b[0m, \u001b[38;5;34m128\u001b[0m)            │        \u001b[38;5;34m32,896\u001b[0m │\n",
       "├─────────────────────────────────┼────────────────────────┼───────────────┤\n",
       "│ dense (\u001b[38;5;33mDense\u001b[0m)                   │ (\u001b[38;5;45mNone\u001b[0m, \u001b[38;5;34m1\u001b[0m)              │           \u001b[38;5;34m129\u001b[0m │\n",
       "└─────────────────────────────────┴────────────────────────┴───────────────┘\n"
      ]
     },
     "metadata": {},
     "output_type": "display_data"
    },
    {
     "data": {
      "text/html": [
       "<pre style=\"white-space:pre;overflow-x:auto;line-height:normal;font-family:Menlo,'DejaVu Sans Mono',consolas,'Courier New',monospace\"><span style=\"font-weight: bold\"> Total params: </span><span style=\"color: #00af00; text-decoration-color: #00af00\">1,313,027</span> (5.01 MB)\n",
       "</pre>\n"
      ],
      "text/plain": [
       "\u001b[1m Total params: \u001b[0m\u001b[38;5;34m1,313,027\u001b[0m (5.01 MB)\n"
      ]
     },
     "metadata": {},
     "output_type": "display_data"
    },
    {
     "data": {
      "text/html": [
       "<pre style=\"white-space:pre;overflow-x:auto;line-height:normal;font-family:Menlo,'DejaVu Sans Mono',consolas,'Courier New',monospace\"><span style=\"font-weight: bold\"> Trainable params: </span><span style=\"color: #00af00; text-decoration-color: #00af00\">1,313,025</span> (5.01 MB)\n",
       "</pre>\n"
      ],
      "text/plain": [
       "\u001b[1m Trainable params: \u001b[0m\u001b[38;5;34m1,313,025\u001b[0m (5.01 MB)\n"
      ]
     },
     "metadata": {},
     "output_type": "display_data"
    },
    {
     "data": {
      "text/html": [
       "<pre style=\"white-space:pre;overflow-x:auto;line-height:normal;font-family:Menlo,'DejaVu Sans Mono',consolas,'Courier New',monospace\"><span style=\"font-weight: bold\"> Non-trainable params: </span><span style=\"color: #00af00; text-decoration-color: #00af00\">0</span> (0.00 B)\n",
       "</pre>\n"
      ],
      "text/plain": [
       "\u001b[1m Non-trainable params: \u001b[0m\u001b[38;5;34m0\u001b[0m (0.00 B)\n"
      ]
     },
     "metadata": {},
     "output_type": "display_data"
    },
    {
     "data": {
      "text/html": [
       "<pre style=\"white-space:pre;overflow-x:auto;line-height:normal;font-family:Menlo,'DejaVu Sans Mono',consolas,'Courier New',monospace\"><span style=\"font-weight: bold\"> Optimizer params: </span><span style=\"color: #00af00; text-decoration-color: #00af00\">2</span> (12.00 B)\n",
       "</pre>\n"
      ],
      "text/plain": [
       "\u001b[1m Optimizer params: \u001b[0m\u001b[38;5;34m2\u001b[0m (12.00 B)\n"
      ]
     },
     "metadata": {},
     "output_type": "display_data"
    }
   ],
   "source": [
    "# Load the pre-trained model with ReLU activation\n",
    "model = load_model('simple_rnn_imdb.h5')\n",
    "model.summary()"
   ]
  },
  {
   "cell_type": "code",
   "execution_count": 4,
   "metadata": {},
   "outputs": [
    {
     "data": {
      "text/plain": [
       "[array([[ 0.309027  , -0.63322234, -0.30578542, ..., -0.20076689,\n",
       "          0.29883233,  0.247838  ],\n",
       "        [ 0.02841415, -0.02469858, -0.02453993, ...,  0.02128335,\n",
       "          0.03295667, -0.04007051],\n",
       "        [ 0.07365552,  0.04465159,  0.06914845, ...,  0.0956139 ,\n",
       "         -0.02168807, -0.11650321],\n",
       "        ...,\n",
       "        [ 0.02744189, -0.05487203, -0.09289024, ...,  0.0541098 ,\n",
       "         -0.03905516,  0.05091621],\n",
       "        [ 0.03587575, -0.04887075, -0.05120186, ..., -0.01421585,\n",
       "          0.05506745,  0.04725805],\n",
       "        [-0.12761594,  0.0688333 ,  0.12774369, ..., -0.09117541,\n",
       "         -0.16013329,  0.03404792]], dtype=float32),\n",
       " array([[ 0.09497499, -0.09986789, -0.07161878, ...,  0.10962848,\n",
       "         -0.13687459,  0.0311528 ],\n",
       "        [-0.02734352, -0.12734717,  0.07187598, ..., -0.06774762,\n",
       "          0.00189943,  0.14600137],\n",
       "        [ 0.01635474, -0.00744557, -0.02428412, ...,  0.01616832,\n",
       "          0.10615693, -0.08265241],\n",
       "        ...,\n",
       "        [-0.15048207,  0.13768618, -0.05183432, ..., -0.16068336,\n",
       "         -0.01516963, -0.08288608],\n",
       "        [ 0.10414071, -0.00582681, -0.08013111, ...,  0.13980928,\n",
       "         -0.01735917, -0.12967421],\n",
       "        [-0.09351219, -0.0467197 , -0.13828556, ..., -0.09714022,\n",
       "          0.10198105,  0.1509748 ]], dtype=float32),\n",
       " array([[-0.03747919,  0.10737228, -0.00953058, ...,  0.21157627,\n",
       "         -0.05705995,  0.12598804],\n",
       "        [ 0.01270583, -0.0397736 ,  0.03325735, ...,  0.01536139,\n",
       "          0.05373244, -0.02227769],\n",
       "        [-0.0677724 ,  0.06790812, -0.04631027, ...,  0.10181017,\n",
       "          0.02301403, -0.12419474],\n",
       "        ...,\n",
       "        [-0.08855754,  0.01749816, -0.22194439, ...,  0.16379891,\n",
       "         -0.0797066 , -0.1490633 ],\n",
       "        [ 0.12290643, -0.08082952,  0.10119864, ..., -0.07908963,\n",
       "         -0.0937283 , -0.05448724],\n",
       "        [-0.10047844,  0.05413957, -0.01048065, ..., -0.16422115,\n",
       "         -0.22811551, -0.01031904]], dtype=float32),\n",
       " array([-0.00156356, -0.01526444,  0.02205005, -0.04385894, -0.03848195,\n",
       "        -0.02116204, -0.02136337,  0.04512356,  0.0102585 , -0.0073332 ,\n",
       "         0.00934422,  0.04382306,  0.01215854, -0.04163413,  0.02550191,\n",
       "         0.01340936, -0.01311186,  0.01263098, -0.07016306, -0.01830004,\n",
       "        -0.02390466,  0.01701446, -0.02946008,  0.01060629, -0.02938683,\n",
       "        -0.02364795,  0.00134751, -0.01572876, -0.02543369, -0.05006627,\n",
       "        -0.02968584, -0.04752999,  0.02471541, -0.02764235, -0.0208196 ,\n",
       "        -0.01088456,  0.01586531,  0.00530269, -0.03197562, -0.04094893,\n",
       "         0.00511633, -0.02352677, -0.026209  ,  0.02337278, -0.03966771,\n",
       "         0.02846084, -0.02764648, -0.03774194, -0.01149212,  0.03971417,\n",
       "         0.00891822,  0.01010227, -0.00356229, -0.03236595,  0.02129208,\n",
       "        -0.03301106, -0.0462713 ,  0.02131299,  0.01717988, -0.00598526,\n",
       "         0.02283691,  0.01506715, -0.02491832, -0.02919981,  0.04564801,\n",
       "         0.02686867,  0.03233099,  0.00356132, -0.03950272, -0.02129607,\n",
       "        -0.05196434, -0.05036325, -0.00126095, -0.01968083,  0.01511603,\n",
       "         0.04127999, -0.04025257, -0.05476402, -0.01407127, -0.02968722,\n",
       "        -0.04050719, -0.03224407, -0.03501116, -0.05351721, -0.01529   ,\n",
       "        -0.05102468, -0.06183628,  0.01839129,  0.02892369, -0.02601077,\n",
       "        -0.06033367, -0.01683127,  0.00873874,  0.01269105, -0.01198023,\n",
       "        -0.02337001, -0.03617353, -0.01689946, -0.0396394 , -0.00739373,\n",
       "        -0.02433298,  0.00805031,  0.01143272, -0.04803933, -0.01672986,\n",
       "         0.0458569 , -0.0253964 , -0.03278086, -0.01326134, -0.03526344,\n",
       "        -0.00707485, -0.01354524, -0.02232812, -0.0250199 ,  0.0101441 ,\n",
       "         0.00149576, -0.03723261, -0.0302612 , -0.04683817, -0.02639148,\n",
       "        -0.00061457,  0.00332911, -0.04556747,  0.01507374, -0.00084944,\n",
       "        -0.00235013,  0.02362391, -0.02366546], dtype=float32),\n",
       " array([[-0.13159707],\n",
       "        [-0.15036689],\n",
       "        [-0.17321105],\n",
       "        [-0.01254588],\n",
       "        [ 0.11955763],\n",
       "        [ 0.25969604],\n",
       "        [ 0.2455203 ],\n",
       "        [-0.16938786],\n",
       "        [ 0.23660043],\n",
       "        [-0.06400072],\n",
       "        [ 0.12983327],\n",
       "        [ 0.07306533],\n",
       "        [-0.6042374 ],\n",
       "        [-0.05273092],\n",
       "        [ 0.04322601],\n",
       "        [ 0.10820458],\n",
       "        [-0.10372123],\n",
       "        [ 0.03892117],\n",
       "        [-0.12475997],\n",
       "        [-0.5743728 ],\n",
       "        [ 0.07019094],\n",
       "        [ 0.19495963],\n",
       "        [-0.23812106],\n",
       "        [-0.02251361],\n",
       "        [ 0.06152364],\n",
       "        [-0.12806271],\n",
       "        [-0.17185462],\n",
       "        [-0.03736934],\n",
       "        [ 0.04260855],\n",
       "        [ 0.22566025],\n",
       "        [ 0.16689499],\n",
       "        [ 0.661786  ],\n",
       "        [ 0.16782637],\n",
       "        [ 0.09635765],\n",
       "        [-0.3415969 ],\n",
       "        [ 0.13300142],\n",
       "        [ 0.15847035],\n",
       "        [ 0.14083314],\n",
       "        [ 0.22011434],\n",
       "        [ 0.10867118],\n",
       "        [-0.14610922],\n",
       "        [ 0.07441972],\n",
       "        [-0.11630306],\n",
       "        [ 0.03504534],\n",
       "        [ 0.1307561 ],\n",
       "        [-0.01549591],\n",
       "        [-0.0836338 ],\n",
       "        [-0.12748863],\n",
       "        [-0.5920232 ],\n",
       "        [-0.22431569],\n",
       "        [-0.18363963],\n",
       "        [ 0.14794694],\n",
       "        [-0.40008157],\n",
       "        [ 0.18278788],\n",
       "        [ 0.31811723],\n",
       "        [-0.16328628],\n",
       "        [ 0.02884598],\n",
       "        [-0.03786734],\n",
       "        [ 0.05934775],\n",
       "        [ 0.897086  ],\n",
       "        [-0.09608248],\n",
       "        [-0.17603044],\n",
       "        [ 0.19304717],\n",
       "        [-0.21060866],\n",
       "        [-0.3061014 ],\n",
       "        [-0.05857989],\n",
       "        [ 0.1221775 ],\n",
       "        [ 0.04456894],\n",
       "        [ 0.00639208],\n",
       "        [-0.04106533],\n",
       "        [ 0.08684411],\n",
       "        [-0.01948604],\n",
       "        [ 0.15376753],\n",
       "        [ 0.25929117],\n",
       "        [-0.29345372],\n",
       "        [-0.07410061],\n",
       "        [ 0.27692908],\n",
       "        [ 0.1210423 ],\n",
       "        [-0.18970212],\n",
       "        [-0.04294176],\n",
       "        [-0.14819594],\n",
       "        [-0.3377532 ],\n",
       "        [-0.15711752],\n",
       "        [ 0.20969133],\n",
       "        [ 0.3398156 ],\n",
       "        [-0.48845974],\n",
       "        [-0.0174934 ],\n",
       "        [-0.01597678],\n",
       "        [ 0.0864597 ],\n",
       "        [ 0.13170597],\n",
       "        [-0.15952964],\n",
       "        [-0.117205  ],\n",
       "        [ 0.06793893],\n",
       "        [-0.22511211],\n",
       "        [-0.28252766],\n",
       "        [-0.09877369],\n",
       "        [-0.19883698],\n",
       "        [-0.35151365],\n",
       "        [-0.11164947],\n",
       "        [-0.21406674],\n",
       "        [-0.10380184],\n",
       "        [ 0.00424069],\n",
       "        [-0.1833861 ],\n",
       "        [ 0.05326261],\n",
       "        [-0.23951204],\n",
       "        [-0.25795117],\n",
       "        [ 0.4937187 ],\n",
       "        [ 0.05569362],\n",
       "        [ 0.19239002],\n",
       "        [-0.04359161],\n",
       "        [-0.15891026],\n",
       "        [-0.6934445 ],\n",
       "        [ 0.01452053],\n",
       "        [ 0.11361802],\n",
       "        [ 0.19445801],\n",
       "        [ 0.4545308 ],\n",
       "        [-0.11487051],\n",
       "        [-0.06718357],\n",
       "        [ 0.09391992],\n",
       "        [-0.02659817],\n",
       "        [ 0.04717415],\n",
       "        [ 0.20643485],\n",
       "        [-0.06591625],\n",
       "        [-0.19759953],\n",
       "        [ 0.01005969],\n",
       "        [ 0.27206314],\n",
       "        [-0.27951112],\n",
       "        [ 0.9127927 ]], dtype=float32),\n",
       " array([-0.10266393], dtype=float32)]"
      ]
     },
     "execution_count": 4,
     "metadata": {},
     "output_type": "execute_result"
    }
   ],
   "source": [
    "model.get_weights()"
   ]
  },
  {
   "cell_type": "code",
   "execution_count": 5,
   "metadata": {},
   "outputs": [],
   "source": [
    "# Step 2: Helper Functions\n",
    "# Function to decode reviews\n",
    "def decode_review(encoded_review):\n",
    "    return ' '.join([reverse_word_index.get(i - 3, '?') for i in encoded_review])\n",
    "\n",
    "# Function to preprocess user input\n",
    "def preprocess_text(text):\n",
    "    words = text.lower().split()\n",
    "    encoded_review = [word_index.get(word, 2) + 3 for word in words]\n",
    "    padded_review = sequence.pad_sequences([encoded_review], maxlen=500)\n",
    "    return padded_review"
   ]
  },
  {
   "cell_type": "code",
   "execution_count": 6,
   "metadata": {},
   "outputs": [],
   "source": [
    "### Prediction  function\n",
    "\n",
    "def predict_sentiment(review):\n",
    "    preprocessed_input=preprocess_text(review)\n",
    "\n",
    "    prediction=model.predict(preprocessed_input)\n",
    "\n",
    "    sentiment = 'Positive' if prediction[0][0] > 0.5 else 'Negative'\n",
    "    \n",
    "    return sentiment, prediction[0][0]\n",
    "\n"
   ]
  },
  {
   "cell_type": "code",
   "execution_count": 7,
   "metadata": {},
   "outputs": [
    {
     "name": "stdout",
     "output_type": "stream",
     "text": [
      "\u001b[1m1/1\u001b[0m \u001b[32m━━━━━━━━━━━━━━━━━━━━\u001b[0m\u001b[37m\u001b[0m \u001b[1m0s\u001b[0m 64ms/step\n",
      "Review: This movie was fantastic! The acting was great and the plot was thrilling.\n",
      "Sentiment: Positive\n",
      "Prediction Score: 0.6776914000511169\n"
     ]
    }
   ],
   "source": [
    "# Step 4: User Input and Prediction\n",
    "# Example review for prediction\n",
    "example_review = \"This movie was fantastic! The acting was great and the plot was thrilling.\"\n",
    "\n",
    "sentiment,score=predict_sentiment(example_review)\n",
    "\n",
    "print(f'Review: {example_review}')\n",
    "print(f'Sentiment: {sentiment}')\n",
    "print(f'Prediction Score: {score}')"
   ]
  },
  {
   "cell_type": "code",
   "execution_count": null,
   "metadata": {},
   "outputs": [],
   "source": []
  },
  {
   "cell_type": "code",
   "execution_count": null,
   "metadata": {},
   "outputs": [],
   "source": []
  },
  {
   "cell_type": "code",
   "execution_count": null,
   "metadata": {},
   "outputs": [],
   "source": []
  },
  {
   "cell_type": "code",
   "execution_count": null,
   "metadata": {},
   "outputs": [],
   "source": []
  }
 ],
 "metadata": {
  "kernelspec": {
   "display_name": "Python 3",
   "language": "python",
   "name": "python3"
  },
  "language_info": {
   "codemirror_mode": {
    "name": "ipython",
    "version": 3
   },
   "file_extension": ".py",
   "mimetype": "text/x-python",
   "name": "python",
   "nbconvert_exporter": "python",
   "pygments_lexer": "ipython3",
   "version": "3.10.16"
  }
 },
 "nbformat": 4,
 "nbformat_minor": 2
}
